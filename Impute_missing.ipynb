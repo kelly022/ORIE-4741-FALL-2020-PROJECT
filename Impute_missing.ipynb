{
 "cells": [
  {
   "cell_type": "markdown",
   "metadata": {},
   "source": [
    "# Impute Missing Data"
   ]
  },
  {
   "cell_type": "code",
   "execution_count": 1,
   "metadata": {},
   "outputs": [
    {
     "data": {
      "text/plain": [
       "Plots.PyPlotBackend()"
      ]
     },
     "execution_count": 1,
     "metadata": {},
     "output_type": "execute_result"
    }
   ],
   "source": [
    "#import Pkg; Pkg.add(\"Tables\")\n",
    "using LowRankModels, Random, LinearAlgebra, Plots, Statistics,DataFrames,LaTeXStrings, CSV,Tables\n",
    "pyplot()"
   ]
  },
  {
   "cell_type": "markdown",
   "metadata": {},
   "source": [
    "$\\textbf{Read cleaned data file}$"
   ]
  },
  {
   "cell_type": "code",
   "execution_count": 2,
   "metadata": {},
   "outputs": [
    {
     "data": {
      "text/html": [
       "<table class=\"data-frame\"><thead><tr><th></th><th>listed price</th><th>year</th><th>mileage</th><th>Accident</th><th>Past Owners</th><th>is_Fleet_Use</th><th>is_Personal_Use</th></tr><tr><th></th><th>Int64⍰</th><th>Int64</th><th>Int64</th><th>Int64</th><th>Int64</th><th>Int64</th><th>Int64</th></tr></thead><tbody><p>6 rows × 12 columns (omitted printing of 5 columns)</p><tr><th>1</th><td>19000</td><td>2019</td><td>38962</td><td>0</td><td>1</td><td>0</td><td>1</td></tr><tr><th>2</th><td>7494</td><td>2012</td><td>146450</td><td>0</td><td>2</td><td>0</td><td>1</td></tr><tr><th>3</th><td>7226</td><td>2012</td><td>117965</td><td>0</td><td>2</td><td>0</td><td>1</td></tr><tr><th>4</th><td>16499</td><td>2019</td><td>38661</td><td>0</td><td>1</td><td>1</td><td>0</td></tr><tr><th>5</th><td>12000</td><td>2014</td><td>53503</td><td>0</td><td>1</td><td>0</td><td>1</td></tr><tr><th>6</th><td>11881</td><td>2018</td><td>139784</td><td>0</td><td>1</td><td>0</td><td>1</td></tr></tbody></table>"
      ],
      "text/latex": [
       "\\begin{tabular}{r|cccccccc}\n",
       "\t& listed price & year & mileage & Accident & Past Owners & is\\_Fleet\\_Use & is\\_Personal\\_Use & \\\\\n",
       "\t\\hline\n",
       "\t& Int64⍰ & Int64 & Int64 & Int64 & Int64 & Int64 & Int64 & \\\\\n",
       "\t\\hline\n",
       "\t1 & 19000 & 2019 & 38962 & 0 & 1 & 0 & 1 & $\\dots$ \\\\\n",
       "\t2 & 7494 & 2012 & 146450 & 0 & 2 & 0 & 1 & $\\dots$ \\\\\n",
       "\t3 & 7226 & 2012 & 117965 & 0 & 2 & 0 & 1 & $\\dots$ \\\\\n",
       "\t4 & 16499 & 2019 & 38661 & 0 & 1 & 1 & 0 & $\\dots$ \\\\\n",
       "\t5 & 12000 & 2014 & 53503 & 0 & 1 & 0 & 1 & $\\dots$ \\\\\n",
       "\t6 & 11881 & 2018 & 139784 & 0 & 1 & 0 & 1 & $\\dots$ \\\\\n",
       "\\end{tabular}\n"
      ],
      "text/plain": [
       "6×12 DataFrame. Omitted printing of 6 columns\n",
       "│ Row │ listed price │ year  │ mileage │ Accident │ Past Owners │ is_Fleet_Use │\n",
       "│     │ \u001b[90mInt64⍰\u001b[39m       │ \u001b[90mInt64\u001b[39m │ \u001b[90mInt64\u001b[39m   │ \u001b[90mInt64\u001b[39m    │ \u001b[90mInt64\u001b[39m       │ \u001b[90mInt64\u001b[39m        │\n",
       "├─────┼──────────────┼───────┼─────────┼──────────┼─────────────┼──────────────┤\n",
       "│ 1   │ 19000        │ 2019  │ 38962   │ 0        │ 1           │ 0            │\n",
       "│ 2   │ 7494         │ 2012  │ 146450  │ 0        │ 2           │ 0            │\n",
       "│ 3   │ 7226         │ 2012  │ 117965  │ 0        │ 2           │ 0            │\n",
       "│ 4   │ 16499        │ 2019  │ 38661   │ 0        │ 1           │ 1            │\n",
       "│ 5   │ 12000        │ 2014  │ 53503   │ 0        │ 1           │ 0            │\n",
       "│ 6   │ 11881        │ 2018  │ 139784  │ 0        │ 1           │ 0            │"
      ]
     },
     "execution_count": 2,
     "metadata": {},
     "output_type": "execute_result"
    }
   ],
   "source": [
    "# Read cleaned data files\n",
    "raw_data = CSV.read(\"camry_clean.csv\");\n",
    "Real_data = raw_data[:,18:29]\n",
    "header = names(Real_data)\n",
    "head(Real_data)"
   ]
  },
  {
   "cell_type": "code",
   "execution_count": 3,
   "metadata": {},
   "outputs": [],
   "source": [
    "# The abserve space will not contain the missing data\n",
    "Real_data = convert(Matrix,Real_data)\n",
    "Ω_obs = findall(iszero,ismissing.(Real_data[:,:]))\n",
    "Ω_missing = findall(!iszero,ismissing.(Real_data[:,:]));\n",
    "Ω_obs_price = findall(iszero,ismissing.(Real_data[:,1]));"
   ]
  },
  {
   "cell_type": "markdown",
   "metadata": {},
   "source": [
    "$\\textbf{Feed into the GLRM}$"
   ]
  },
  {
   "cell_type": "code",
   "execution_count": 8,
   "metadata": {},
   "outputs": [
    {
     "name": "stdout",
     "output_type": "stream",
     "text": [
      "Fitting GLRM\n",
      "Iteration 10: objective value = 3.2235218765603054e8\n",
      "Iteration 20: objective value = 1.2189491505977555e8\n",
      "Iteration 30: objective value = 1.0950887204662155e8\n",
      "Iteration 40: objective value = 1.0727892591832066e8\n",
      "Iteration 50: objective value = 1.0629020120479745e8\n",
      "Iteration 60: objective value = 1.0587883722192697e8\n",
      "Iteration 70: objective value = 1.0545001000636382e8\n",
      "Iteration 80: objective value = 1.0512510198805815e8\n",
      "Iteration 90: objective value = 1.0467366029266475e8\n",
      "Iteration 100: objective value = 1.0413833714249192e8\n",
      "Iteration 110: objective value = 1.032539109736074e8\n",
      "Iteration 120: objective value = 9.628293891353008e7\n",
      "Iteration 130: objective value = 7.26769977759358e7\n",
      "Iteration 140: objective value = 3.407350553041377e7\n",
      "Iteration 150: objective value = 8.52965382135115e6\n",
      "Iteration 160: objective value = 3.6579473407912776e6\n",
      "Iteration 170: objective value = 3.296098509159269e6\n",
      "Iteration 180: objective value = 3.251871466777078e6\n"
     ]
    },
    {
     "data": {
      "text/plain": [
       "55.281111398721016"
      ]
     },
     "execution_count": 8,
     "metadata": {},
     "output_type": "execute_result"
    }
   ],
   "source": [
    "Random.seed!(1)\n",
    "nn = size(Ω_obs,1)\n",
    "\n",
    "loss = Loss[HuberLoss(), HuberLoss(), HuberLoss(),BvSLoss(),BvSLoss(),WeightedHingeLoss(),LogisticLoss(),LogisticLoss(),LogisticLoss(),LogisticLoss(),LogisticLoss(),LogisticLoss()]\n",
    "#reg = QuadReg(0.001)\n",
    "#rx = ZeroReg()\n",
    "reg = NonNegConstraint()\n",
    "k = 8\n",
    "glrm = GLRM(Real_data,loss,reg,reg,k,obs = Ω_obs)\n",
    "add_offset!(glrm)\n",
    "\n",
    "# fit low rank model\n",
    "fit!(glrm,ProxGradParams(max_iter=600))\n",
    "Impute_data = impute(glrm)\n",
    "MAE = sum(abs.(vec((Impute_data - Real_data)[Ω_obs_price])))/size(Ω_obs_price,1)  # MAE of price\n",
    "    "
   ]
  },
  {
   "cell_type": "markdown",
   "metadata": {},
   "source": [
    "$\\textbf{Compare the imputed data set with the real data set}$"
   ]
  },
  {
   "cell_type": "code",
   "execution_count": 9,
   "metadata": {},
   "outputs": [
    {
     "data": {
      "text/plain": [
       "8495×12 Array{Number,2}:\n",
       " 18965.2   2077.36  39001.9        1  1  …  false  false  false  false  false\n",
       "  7480.22  2072.9       1.4652e5   1  4     false   true  false  false  false\n",
       "  7097.74  1764.68      1.17955e5  1  2     false  false  false  false  false\n",
       " 16602.6   1860.12  38694.1        1  1     false  false  false  false  false\n",
       " 11931.7   1585.22  53486.8        1  1     false  false  false  false  false\n",
       " 11978.3   2415.02      1.39845e5  1  2  …  false  false  false  false  false\n",
       " 12959.1   1548.31  40207.9        1  1     false  false  false  false  false\n",
       " 20053.5   1947.59  16240.1        1  1     false  false  false  false  false\n",
       " 18122.8   1776.48  16406.0        1  1     false  false  false  false  false\n",
       " 16559.4   1791.24  32096.1        1  1     false  false  false  false  false\n",
       " 16969.0   1636.9   12905.7        1  1  …  false  false  false  false  false\n",
       " 12847.5   1491.32  35332.9        1  1     false  false  false  false  false\n",
       "  7703.43  2071.62      1.44104e5  1  4     false   true  false  false  false\n",
       "     ⋮                                   ⋱                           ⋮  \n",
       " 34030.7   3147.63  12350.7        1  1     false  false  false  false  false\n",
       " 29526.6   2964.6   34187.1        1  1     false  false  false  false  false\n",
       " 26488.4   3315.58  96675.4        1  2  …  false  false  false  false  false\n",
       " 18474.7   2161.87  52532.8        1  1     false  false  false  false  false\n",
       " 18059.3   2251.95  65576.6        1  1     false  false  false  false  false\n",
       " 19036.5   2411.59  72963.4        1  1     false  false  false  false  false\n",
       " 21101.5   2045.7   17152.0        1  1     false  false  false  false  false\n",
       " 21911.7   2285.63  34300.2        1  1  …  false  false  false  false  false\n",
       " 16972.3   2134.73  63549.8        1  1     false  false  false  false  false\n",
       " 16367.0   2139.46  69508.3        1  2     false  false  false  false  false\n",
       " 19072.3   2440.5   75865.9        1  2     false  false  false  false  false\n",
       " 21015.9   2348.16  48035.1        1  1     false  false  false  false  false"
      ]
     },
     "execution_count": 9,
     "metadata": {},
     "output_type": "execute_result"
    }
   ],
   "source": [
    "Impute_data"
   ]
  },
  {
   "cell_type": "code",
   "execution_count": 10,
   "metadata": {},
   "outputs": [
    {
     "data": {
      "text/plain": [
       "8495×12 Array{Union{Missing, Int64},2}:\n",
       " 19000  2019   38962  0  1  0  1  1  0  0  0  0\n",
       "  7494  2012  146450  0  2  0  1  1  0  0  0  0\n",
       "  7226  2012  117965  0  2  0  1  1  0  0  0  0\n",
       " 16499  2019   38661  0  1  1  0  1  0  0  0  0\n",
       " 12000  2014   53503  0  1  0  1  1  0  0  0  0\n",
       " 11881  2018  139784  0  1  0  1  1  0  0  0  0\n",
       " 13000  2018   40245  0  1  0  1  1  0  0  0  0\n",
       " 20000  2018   16175  0  1  1  0  1  0  0  0  0\n",
       " 18028  2018   16414  0  1  0  1  1  0  0  0  0\n",
       " 16500  2018   32106  0  1  0  1  1  0  0  0  0\n",
       " 16899  2019   12852  0  1  0  1  1  0  0  0  0\n",
       " 12801  2014   35273  0  2  1  0  1  0  0  0  0\n",
       "  7750  2012  144032  0  3  1  0  1  0  0  0  0\n",
       "     ⋮                      ⋮              ⋮  \n",
       " 33995  2020   12385  0  1  0  1  0  0  0  0  1\n",
       " 29540  2018   34035  0  1  0  1  0  0  0  0  1\n",
       " 26500  2019   96660  0  1  0  1  0  0  0  0  1\n",
       " 18377  2017   52477  0  1  0  1  0  0  0  0  1\n",
       " 17995  2015   65607  0  1  0  1  0  0  0  0  1\n",
       " 18995  2017   73014  0  1  0  1  0  0  0  0  1\n",
       " 20995  2017   17155  0  1  0  1  0  0  0  0  1\n",
       " 21995  2017   34382  0  1  1  0  0  0  0  0  1\n",
       " 16995  2017   63636  0  2  0  1  0  0  0  0  1\n",
       " 16470  2017   69538  0  1  1  0  0  0  0  0  1\n",
       " 18988  2016   75809  0  2  1  0  0  0  0  0  1\n",
       " 20988  2017   48153  0  1  0  1  0  0  0  0  1"
      ]
     },
     "execution_count": 10,
     "metadata": {},
     "output_type": "execute_result"
    }
   ],
   "source": [
    "Real_data"
   ]
  },
  {
   "cell_type": "markdown",
   "metadata": {},
   "source": [
    "$\\textbf{Output new CSV file}$"
   ]
  },
  {
   "cell_type": "code",
   "execution_count": 11,
   "metadata": {},
   "outputs": [
    {
     "data": {
      "text/plain": [
       "8495×12 Array{Number,2}:\n",
       " 19000  2019   38962  0  1  0  1  1  0  0  0  0\n",
       "  7494  2012  146450  0  2  0  1  1  0  0  0  0\n",
       "  7226  2012  117965  0  2  0  1  1  0  0  0  0\n",
       " 16499  2019   38661  0  1  1  0  1  0  0  0  0\n",
       " 12000  2014   53503  0  1  0  1  1  0  0  0  0\n",
       " 11881  2018  139784  0  1  0  1  1  0  0  0  0\n",
       " 13000  2018   40245  0  1  0  1  1  0  0  0  0\n",
       " 20000  2018   16175  0  1  1  0  1  0  0  0  0\n",
       " 18028  2018   16414  0  1  0  1  1  0  0  0  0\n",
       " 16500  2018   32106  0  1  0  1  1  0  0  0  0\n",
       " 16899  2019   12852  0  1  0  1  1  0  0  0  0\n",
       " 12801  2014   35273  0  2  1  0  1  0  0  0  0\n",
       "  7750  2012  144032  0  3  1  0  1  0  0  0  0\n",
       "     ⋮                      ⋮              ⋮  \n",
       " 33995  2020   12385  0  1  0  1  0  0  0  0  1\n",
       " 29540  2018   34035  0  1  0  1  0  0  0  0  1\n",
       " 26500  2019   96660  0  1  0  1  0  0  0  0  1\n",
       " 18377  2017   52477  0  1  0  1  0  0  0  0  1\n",
       " 17995  2015   65607  0  1  0  1  0  0  0  0  1\n",
       " 18995  2017   73014  0  1  0  1  0  0  0  0  1\n",
       " 20995  2017   17155  0  1  0  1  0  0  0  0  1\n",
       " 21995  2017   34382  0  1  1  0  0  0  0  0  1\n",
       " 16995  2017   63636  0  2  0  1  0  0  0  0  1\n",
       " 16470  2017   69538  0  1  1  0  0  0  0  0  1\n",
       " 18988  2016   75809  0  2  1  0  0  0  0  0  1\n",
       " 20988  2017   48153  0  1  0  1  0  0  0  0  1"
      ]
     },
     "execution_count": 11,
     "metadata": {},
     "output_type": "execute_result"
    }
   ],
   "source": [
    "# only impute missing data\n",
    "Impute_missing_data = impute_missing(glrm)"
   ]
  },
  {
   "cell_type": "code",
   "execution_count": 152,
   "metadata": {},
   "outputs": [
    {
     "data": {
      "text/plain": [
       "\"Camry_impute_missing_data.csv\""
      ]
     },
     "execution_count": 152,
     "metadata": {},
     "output_type": "execute_result"
    }
   ],
   "source": [
    "# OUTPUT CSV file\n",
    "df = Tables.table(Impute_missing_data;header)\n",
    "CSV.write(\"Camry_impute_missing_data.csv\",df)"
   ]
  },
  {
   "cell_type": "code",
   "execution_count": null,
   "metadata": {},
   "outputs": [],
   "source": []
  }
 ],
 "metadata": {
  "kernelspec": {
   "display_name": "Julia 1.5.1",
   "language": "julia",
   "name": "julia-1.5"
  },
  "language_info": {
   "file_extension": ".jl",
   "mimetype": "application/julia",
   "name": "julia",
   "version": "1.5.1"
  }
 },
 "nbformat": 4,
 "nbformat_minor": 4
}
